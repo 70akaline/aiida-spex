{
 "cells": [
  {
   "cell_type": "code",
   "execution_count": 3,
   "metadata": {},
   "outputs": [],
   "source": [
    "raw_inp=\"BZ 4 4 4\\nJOB GW 1:(4-12)\\nNBAND 80\\nITERATE\\n\""
   ]
  },
  {
   "cell_type": "code",
   "execution_count": null,
   "metadata": {},
   "outputs": [],
   "source": []
  }
 ],
 "metadata": {
  "kernelspec": {
   "display_name": "Python 3.9.2 64-bit ('aiida': virtualenvwrapper)",
   "name": "python392jvsc74a57bd05e6c50a539c6458c407a87c446a620de24fe37d915f8f064566a32f374610327"
  },
  "language_info": {
   "name": "python",
   "version": ""
  },
  "orig_nbformat": 2
 },
 "nbformat": 4,
 "nbformat_minor": 2
}